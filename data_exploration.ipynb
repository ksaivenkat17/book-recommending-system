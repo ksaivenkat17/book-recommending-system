{
 "cells": [
  {
   "cell_type": "code",
   "execution_count": null,
   "id": "14bdb936",
   "metadata": {},
   "outputs": [],
   "source": [
    "import kagglehub\n",
    "path = kagglehub.dataset_download(\"dylanjcastillo/7k-books-with-metadata\")\n",
    "\n",
    "print(\"Path to dataset files:\", path)"
   ]
  },
  {
   "cell_type": "code",
   "execution_count": null,
   "id": "d6a8f0d9",
   "metadata": {},
   "outputs": [],
   "source": [
    "import pandas as pd\n",
    "books_df = pd.read_csv(f\"{path}/books.csv\")\n",
    "books_df"
   ]
  },
  {
   "cell_type": "code",
   "execution_count": null,
   "id": "ac515549",
   "metadata": {},
   "outputs": [],
   "source": [
    "pip install seaborn matplotlib numpy"
   ]
  },
  {
   "cell_type": "code",
   "execution_count": null,
   "id": "6b2cf2cb",
   "metadata": {},
   "outputs": [],
   "source": [
    "import seaborn as sns\n",
    "import matplotlib.pyplot as plt\n",
    "\n",
    "ax = plt.axes()\n",
    "sns.heatmap(books_df.isna().transpose(), cbar=False, ax=ax)\n",
    "\n",
    "plt.xlabel(\"Columns\")\n",
    "plt.ylabel(\"Missing Values\")\n",
    "\n",
    "plt.show()"
   ]
  },
  {
   "cell_type": "code",
   "execution_count": null,
   "id": "2d70a644",
   "metadata": {},
   "outputs": [],
   "source": [
    "import numpy as np\n",
    "\n",
    "books_df['missing_description'] = np.where(books_df['description'].isna(), 1, 0)\n",
    "books_df['age_of_book'] = 2025 - books_df['published_year']\n",
    "\n",
    "books_df"
   ]
  },
  {
   "cell_type": "code",
   "execution_count": null,
   "id": "852dee93",
   "metadata": {},
   "outputs": [],
   "source": [
    "columns_of_interest = ['num_pages', 'age_of_book', 'missing_description', 'average_rating']\n",
    "\n",
    "correlation_matrix = books_df[columns_of_interest].corr(method='spearman')\n",
    "\n",
    "sns.set_theme(style='white')\n",
    "plt.figure(figsize=(8,6))\n",
    "heatmap = sns.heatmap(correlation_matrix, annot=True, cmap='coolwarm', fmt='.2f', cbar_kws={\"label\": \"Spearman Correlation\"})\n",
    "\n",
    "heatmap.set_title('Correlation heatmap')\n",
    "plt.show()"
   ]
  },
  {
   "cell_type": "code",
   "execution_count": null,
   "id": "c7b5d3a6",
   "metadata": {},
   "outputs": [],
   "source": [
    "books_missing = books_df[~(books_df['missing_description'].isna()) &\n",
    "        ~(books_df['num_pages'].isna()) &\n",
    "        ~(books_df['average_rating'].isna()) &\n",
    "        ~(books_df['published_year'].isna())\n",
    "]\n",
    "\n",
    "books_missing"
   ]
  },
  {
   "cell_type": "code",
   "execution_count": null,
   "id": "59d785c3",
   "metadata": {},
   "outputs": [],
   "source": [
    "books_missing['categories'].value_counts().reset_index().sort_values(\"count\", ascending=False)"
   ]
  },
  {
   "cell_type": "code",
   "execution_count": null,
   "id": "b50e3708",
   "metadata": {},
   "outputs": [],
   "source": [
    "books_missing['words_in_description'] = books_missing['description'].str.split().str.len()\n",
    "\n",
    "books_missing"
   ]
  },
  {
   "cell_type": "code",
   "execution_count": null,
   "id": "1a9c32ff",
   "metadata": {},
   "outputs": [],
   "source": [
    "books_missing.loc[books_missing['words_in_description'].between(1,4), 'description']\n"
   ]
  },
  {
   "cell_type": "code",
   "execution_count": null,
   "id": "eaa286e5",
   "metadata": {},
   "outputs": [],
   "source": [
    "books_missing_25_words = books_missing[books_missing['words_in_description'] >= 25]\n",
    "books_missing_25_words"
   ]
  },
  {
   "cell_type": "code",
   "execution_count": null,
   "id": "10f300d6",
   "metadata": {},
   "outputs": [],
   "source": [
    "books_missing_25_words['title_and_subtitle'] = (\n",
    "    np.where(books_missing_25_words['subtitle'].isna(),\n",
    "             books_missing_25_words['title'],\n",
    "             books_missing_25_words[['title', 'subtitle']].astype(str).agg(': '.join, axis=1))\n",
    ")"
   ]
  },
  {
   "cell_type": "code",
   "execution_count": null,
   "id": "b0841d0a",
   "metadata": {},
   "outputs": [],
   "source": [
    "books_missing_25_words"
   ]
  },
  {
   "cell_type": "code",
   "execution_count": null,
   "id": "61fb5632",
   "metadata": {},
   "outputs": [],
   "source": [
    "books_missing_25_words['tagged_description'] = books_missing_25_words[['isbn13', 'description']].astype(str).agg(' '.join, axis=1)"
   ]
  },
  {
   "cell_type": "code",
   "execution_count": null,
   "id": "80cbe25e",
   "metadata": {},
   "outputs": [],
   "source": [
    "books_missing_25_words"
   ]
  },
  {
   "cell_type": "code",
   "execution_count": 16,
   "id": "ce628d9a",
   "metadata": {},
   "outputs": [],
   "source": [
    "(\n",
    "    books_missing_25_words\n",
    "    .drop(['subtitle', 'missing_description', 'age_of_book', 'words_in_description'], axis=1)\n",
    "    .to_csv(\"books_cleaned.csv\", index=False)\n",
    ")"
   ]
  },
  {
   "cell_type": "code",
   "execution_count": null,
   "id": "034fc53a",
   "metadata": {},
   "outputs": [],
   "source": [
    "pip install dotenv langchain"
   ]
  },
  {
   "cell_type": "code",
   "execution_count": null,
   "id": "70e9237c",
   "metadata": {},
   "outputs": [],
   "source": [
    "from dotenv import load_dotenv\n",
    "\n",
    "load_dotenv()"
   ]
  },
  {
   "cell_type": "code",
   "execution_count": null,
   "id": "3d11e7fe",
   "metadata": {},
   "outputs": [],
   "source": [
    "import pandas as pd\n",
    "\n",
    "books = pd.read_csv(\"books_cleaned.csv\")\n",
    "books"
   ]
  },
  {
   "cell_type": "code",
   "execution_count": 20,
   "id": "4630909c",
   "metadata": {},
   "outputs": [],
   "source": [
    "books['tagged_description'].to_csv(\"books_descriptions.txt\", sep='\\n', index=False, header=False)"
   ]
  },
  {
   "cell_type": "code",
   "execution_count": null,
   "id": "8af915a0",
   "metadata": {},
   "outputs": [],
   "source": [
    "pip install langchain_community langchain_openai langchain_chroma"
   ]
  },
  {
   "cell_type": "code",
   "execution_count": 22,
   "id": "92986ef1",
   "metadata": {},
   "outputs": [],
   "source": [
    "from langchain_community.document_loaders import TextLoader\n",
    "from langchain_text_splitters import CharacterTextSplitter\n",
    "from langchain_openai import OpenAIEmbeddings\n",
    "from langchain_chroma import Chroma"
   ]
  },
  {
   "cell_type": "code",
   "execution_count": null,
   "id": "92ecfc5d",
   "metadata": {},
   "outputs": [],
   "source": [
    "raw_documents = TextLoader(\"books_tagged_descriptions.txt\", encoding='utf-8').load()\n",
    "text_splitter = CharacterTextSplitter(chunk_size=0, chunk_overlap=0, separator=\"\\n\")\n",
    "\n",
    "documents = text_splitter.split_documents(raw_documents)\n"
   ]
  },
  {
   "cell_type": "code",
   "execution_count": null,
   "id": "28df020c",
   "metadata": {},
   "outputs": [],
   "source": [
    "documents[0]"
   ]
  },
  {
   "cell_type": "code",
   "execution_count": null,
   "id": "818b0e86",
   "metadata": {},
   "outputs": [],
   "source": [
    "pip install sentence-transformers\n"
   ]
  },
  {
   "cell_type": "code",
   "execution_count": null,
   "id": "cf4b7b9e",
   "metadata": {},
   "outputs": [],
   "source": [
    "from langchain.embeddings import HuggingFaceEmbeddings\n",
    "\n",
    "embedding_model = HuggingFaceEmbeddings(model_name=\"sentence-transformers/all-MiniLM-L6-v2\")\n"
   ]
  },
  {
   "cell_type": "code",
   "execution_count": 27,
   "id": "0ddb8c63",
   "metadata": {},
   "outputs": [],
   "source": [
    "db_books = Chroma.from_documents(\n",
    "    documents,\n",
    "    embedding=embedding_model,\n",
    "    persist_directory=\"chroma_books\"\n",
    ")"
   ]
  },
  {
   "cell_type": "code",
   "execution_count": null,
   "id": "159d928d",
   "metadata": {},
   "outputs": [],
   "source": [
    "query = \"A book to teach children about nature\"\n",
    "\n",
    "docs = db_books.similarity_search(query, k=10)\n",
    "docs"
   ]
  },
  {
   "cell_type": "code",
   "execution_count": null,
   "id": "e87f9eff",
   "metadata": {},
   "outputs": [],
   "source": [
    "books[books['isbn13'] == int(docs[0].page_content.split()[0].strip())]"
   ]
  },
  {
   "cell_type": "code",
   "execution_count": 39,
   "id": "9312aeeb",
   "metadata": {},
   "outputs": [],
   "source": [
    "def retrieve_semantic_recommendations(query, top_k=10):\n",
    "    rec_docs = db_books.similarity_search(query, k=50)\n",
    "    books_list = []\n",
    "    for doc in range(0, len(rec_docs)):\n",
    "        books_list += [int(rec_docs[doc].page_content.strip('\"').split()[0])]\n",
    "        \n",
    "    return books[books['isbn13'].isin(books_list)].head(top_k)"
   ]
  },
  {
   "cell_type": "code",
   "execution_count": null,
   "id": "26224734",
   "metadata": {},
   "outputs": [],
   "source": [
    "retrieve_semantic_recommendations(\"A book to teach children about nature\")"
   ]
  },
  {
   "cell_type": "code",
   "execution_count": null,
   "id": "486fff86",
   "metadata": {},
   "outputs": [],
   "source": []
  }
 ],
 "metadata": {
  "kernelspec": {
   "display_name": "book-solution-venv",
   "language": "python",
   "name": "python3"
  },
  "language_info": {
   "codemirror_mode": {
    "name": "ipython",
    "version": 3
   },
   "file_extension": ".py",
   "mimetype": "text/x-python",
   "name": "python",
   "nbconvert_exporter": "python",
   "pygments_lexer": "ipython3",
   "version": "3.11.8"
  }
 },
 "nbformat": 4,
 "nbformat_minor": 5
}
